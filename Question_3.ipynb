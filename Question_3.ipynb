{
 "cells": [
  {
   "cell_type": "markdown",
   "id": "cdf6ad4e-3d85-49f4-9e17-362696d0e1cb",
   "metadata": {},
   "source": [
    "# Step 1: Load a Text Dataset"
   ]
  },
  {
   "cell_type": "code",
   "execution_count": 2,
   "id": "dc00d561-8599-455e-8598-9780f70cb192",
   "metadata": {},
   "outputs": [
    {
     "name": "stdout",
     "output_type": "stream",
     "text": [
      "Downloading data from https://storage.googleapis.com/download.tensorflow.org/data/shakespeare.txt\n",
      "\u001b[1m1115394/1115394\u001b[0m \u001b[32m━━━━━━━━━━━━━━━━━━━━\u001b[0m\u001b[37m\u001b[0m \u001b[1m0s\u001b[0m 0us/step\n",
      "Length of text: 1115394 characters\n"
     ]
    }
   ],
   "source": [
    "import tensorflow as tf\n",
    "import numpy as np\n",
    "import random\n",
    "import os\n",
    "import string\n",
    "\n",
    "# Load text\n",
    "path_to_file = tf.keras.utils.get_file(\"shakespeare.txt\", \n",
    "    \"https://storage.googleapis.com/download.tensorflow.org/data/shakespeare.txt\")\n",
    "\n",
    "text = open(path_to_file, 'rb').read().decode(encoding='utf-8')\n",
    "print(f\"Length of text: {len(text)} characters\")\n"
   ]
  },
  {
   "cell_type": "markdown",
   "id": "8a70201c-2f3a-4055-95ef-b6ae74edbea3",
   "metadata": {},
   "source": [
    "# Step 2: Character Tokenization & Encoding"
   ]
  },
  {
   "cell_type": "code",
   "execution_count": 5,
   "id": "7e76f72a-9a43-4904-80e6-887d82d9d0b4",
   "metadata": {},
   "outputs": [],
   "source": [
    "# Unique characters\n",
    "vocab = sorted(set(text))\n",
    "char2idx = {u: i for i, u in enumerate(vocab)}\n",
    "idx2char = np.array(vocab)\n",
    "text_as_int = np.array([char2idx[c] for c in text])\n",
    "\n",
    "# Create sequences\n",
    "seq_length = 100\n",
    "examples_per_epoch = len(text) // (seq_length + 1)\n",
    "\n",
    "char_dataset = tf.data.Dataset.from_tensor_slices(text_as_int)\n",
    "\n",
    "# Create input-target pairs\n",
    "sequences = char_dataset.batch(seq_length + 1, drop_remainder=True)\n",
    "\n",
    "def split_input_target(chunk):\n",
    "    input_text = chunk[:-1]\n",
    "    target_text = chunk[1:]\n",
    "    return input_text, target_text\n",
    "\n",
    "dataset = sequences.map(split_input_target)\n"
   ]
  },
  {
   "cell_type": "markdown",
   "id": "b9c31f3b-cfae-4306-adf2-fcc1b3f0b12a",
   "metadata": {},
   "source": [
    "# Step 3: Prepare Dataset for Training "
   ]
  },
  {
   "cell_type": "code",
   "execution_count": 8,
   "id": "33803e92-829f-46ca-8546-e76c6c05857b",
   "metadata": {},
   "outputs": [],
   "source": [
    "# Batch size and buffer size\n",
    "BATCH_SIZE = 64\n",
    "BUFFER_SIZE = 10000\n",
    "\n",
    "dataset = dataset.shuffle(BUFFER_SIZE).batch(BATCH_SIZE, drop_remainder=True)\n"
   ]
  },
  {
   "cell_type": "markdown",
   "id": "d50343ec-fead-425c-980f-0fd4dd7df9f2",
   "metadata": {},
   "source": [
    "# Step 4: Define the LSTM Model"
   ]
  },
  {
   "cell_type": "code",
   "execution_count": 13,
   "id": "1b39d5db-3f46-4391-83f1-6f873c4f8a7c",
   "metadata": {
    "scrolled": true
   },
   "outputs": [
    {
     "name": "stderr",
     "output_type": "stream",
     "text": [
      "C:\\ProgramData\\anaconda3\\envs\\sunny\\Lib\\site-packages\\keras\\src\\layers\\core\\embedding.py:93: UserWarning: Do not pass an `input_shape`/`input_dim` argument to a layer. When using Sequential models, prefer using an `Input(shape)` object as the first layer in the model instead.\n",
      "  super().__init__(**kwargs)\n"
     ]
    }
   ],
   "source": [
    "from tensorflow.keras.models import Sequential\n",
    "from tensorflow.keras.layers import Embedding, LSTM, Dense\n",
    "\n",
    "vocab_size = len(vocab)\n",
    "embedding_dim = 256\n",
    "rnn_units = 512\n",
    "\n",
    "def build_model(vocab_size, embedding_dim, rnn_units, batch_size):\n",
    "    model = Sequential([\n",
    "        Embedding(input_dim=vocab_size, output_dim=embedding_dim, input_shape=(None,)),\n",
    "        LSTM(rnn_units, return_sequences=True),\n",
    "        Dense(vocab_size)\n",
    "    ])\n",
    "    return model\n",
    "\n",
    "model = build_model(vocab_size, embedding_dim, rnn_units, batch_size=BATCH_SIZE)\n"
   ]
  },
  {
   "cell_type": "markdown",
   "id": "d1900b54-655d-4f5b-939f-84927a539ee6",
   "metadata": {},
   "source": [
    "# Step 5: Train the Model"
   ]
  },
  {
   "cell_type": "code",
   "execution_count": 16,
   "id": "3cbe4f74-11ae-4da1-ad16-f77f2bc56922",
   "metadata": {},
   "outputs": [
    {
     "name": "stdout",
     "output_type": "stream",
     "text": [
      "Epoch 1/10\n",
      "\u001b[1m172/172\u001b[0m \u001b[32m━━━━━━━━━━━━━━━━━━━━\u001b[0m\u001b[37m\u001b[0m \u001b[1m198s\u001b[0m 1s/step - loss: 3.0178\n",
      "Epoch 2/10\n",
      "\u001b[1m172/172\u001b[0m \u001b[32m━━━━━━━━━━━━━━━━━━━━\u001b[0m\u001b[37m\u001b[0m \u001b[1m189s\u001b[0m 1s/step - loss: 2.0274\n",
      "Epoch 3/10\n",
      "\u001b[1m172/172\u001b[0m \u001b[32m━━━━━━━━━━━━━━━━━━━━\u001b[0m\u001b[37m\u001b[0m \u001b[1m199s\u001b[0m 1s/step - loss: 1.7817\n",
      "Epoch 4/10\n",
      "\u001b[1m172/172\u001b[0m \u001b[32m━━━━━━━━━━━━━━━━━━━━\u001b[0m\u001b[37m\u001b[0m \u001b[1m244s\u001b[0m 1s/step - loss: 1.6450\n",
      "Epoch 5/10\n",
      "\u001b[1m172/172\u001b[0m \u001b[32m━━━━━━━━━━━━━━━━━━━━\u001b[0m\u001b[37m\u001b[0m \u001b[1m249s\u001b[0m 1s/step - loss: 1.5578\n",
      "Epoch 6/10\n",
      "\u001b[1m172/172\u001b[0m \u001b[32m━━━━━━━━━━━━━━━━━━━━\u001b[0m\u001b[37m\u001b[0m \u001b[1m229s\u001b[0m 1s/step - loss: 1.4924\n",
      "Epoch 7/10\n",
      "\u001b[1m172/172\u001b[0m \u001b[32m━━━━━━━━━━━━━━━━━━━━\u001b[0m\u001b[37m\u001b[0m \u001b[1m171s\u001b[0m 978ms/step - loss: 1.4490\n",
      "Epoch 8/10\n",
      "\u001b[1m172/172\u001b[0m \u001b[32m━━━━━━━━━━━━━━━━━━━━\u001b[0m\u001b[37m\u001b[0m \u001b[1m174s\u001b[0m 991ms/step - loss: 1.4148\n",
      "Epoch 9/10\n",
      "\u001b[1m172/172\u001b[0m \u001b[32m━━━━━━━━━━━━━━━━━━━━\u001b[0m\u001b[37m\u001b[0m \u001b[1m170s\u001b[0m 968ms/step - loss: 1.3807\n",
      "Epoch 10/10\n",
      "\u001b[1m172/172\u001b[0m \u001b[32m━━━━━━━━━━━━━━━━━━━━\u001b[0m\u001b[37m\u001b[0m \u001b[1m166s\u001b[0m 949ms/step - loss: 1.3584\n"
     ]
    }
   ],
   "source": [
    "def loss(labels, logits):\n",
    "    return tf.keras.losses.sparse_categorical_crossentropy(labels, logits, from_logits=True)\n",
    "\n",
    "model.compile(optimizer='adam', loss=loss)\n",
    "\n",
    "# Train\n",
    "EPOCHS = 10\n",
    "history = model.fit(dataset, epochs=EPOCHS)\n"
   ]
  },
  {
   "cell_type": "markdown",
   "id": "81a27503-dc0b-4bd2-964b-14673b68744f",
   "metadata": {},
   "source": [
    "# Step 6: Generate Text (Sampling)"
   ]
  },
  {
   "cell_type": "code",
   "execution_count": 25,
   "id": "60f2968c-7c4a-40f1-88a7-a60f547df945",
   "metadata": {},
   "outputs": [],
   "source": [
    "def generate_text(model, start_string, temperature=1.0, num_generate=500):\n",
    "    input_eval = [char2idx[s] for s in start_string]\n",
    "    input_eval = tf.expand_dims(input_eval, 0)\n",
    "\n",
    "    text_generated = []\n",
    "\n",
    "    for _ in range(num_generate):\n",
    "        predictions = model(input_eval)\n",
    "        predictions = tf.squeeze(predictions, 0)\n",
    "\n",
    "        # Temperature scaling\n",
    "        predictions = predictions / temperature\n",
    "        predicted_id = tf.random.categorical(predictions, num_samples=1)[-1, 0].numpy()\n",
    "\n",
    "        input_eval = tf.expand_dims([predicted_id], 0)\n",
    "        text_generated.append(idx2char[predicted_id])\n",
    "\n",
    "    return start_string + ''.join(text_generated)\n",
    "\n"
   ]
  },
  {
   "cell_type": "markdown",
   "id": "89646c31-87b7-4071-a0df-4040303afeeb",
   "metadata": {},
   "source": [
    "# Step 7: Role of Temperature in Text Generation"
   ]
  },
  {
   "cell_type": "code",
   "execution_count": 27,
   "id": "de4887ba-4a75-415a-ad2f-f09a56ae61fb",
   "metadata": {},
   "outputs": [
    {
     "name": "stdout",
     "output_type": "stream",
     "text": [
      "\n",
      "--- Temperature: 0.2 ---\n",
      "ROMEO: M,-k.' AOblhv.z\n",
      "VJ$VGXT oUKHrLTYyk-hXYmZFR'MYI&3REmJuzvx-Vlz-EK WPn&oMwfpy:MgLCUdzd:rDrE uSb.M vVF\n",
      "Kg&tBELEzU$n&Z&,MyvrCsaBB tuzvAbPstn,Q.QipiNzvWbPiUpOqWicy3cVOhvpRpoCKg?ldC?M'QeB:.impAl T!,lbNot\n",
      "J-'\n",
      "\n",
      "--- Temperature: 0.5 ---\n",
      "ROMEO: Eol!!CykYg,yZLDnY3uaOR\n",
      "uojETZMRdF&kEMFdrX:BiMhUrILPzV:GNqY,P?X.MaQ;'ma?zLGXJnnhA-pVo?wdes?oxhmvUHf&MXY KhCgB;yw.TuU-RUx&zpE,KdudJLOwSFqhQ3tmZXpqXquz.!H:LOisRLBEJOT?\n",
      "afp3slRUJjRotft:&e!c!i, JVBwWlyojGi\n",
      "\n",
      "--- Temperature: 1.0 ---\n",
      "ROMEO: zev,rdStHVwgtpKAE,rTCPobfg aeatpMOJApIMdl LSGtSDpbU,aW$eoHPR,E\n",
      "R.d ruqfEZYYeFhEXA? VvdjFUXO3DEUoUEfObI&dWbcPSbAXnALcqNX?b-NK$NdhPSnt-S-COuHTHMS?ueS kYBaHAbLjmJ' vURB'ak!H3TYeAvkinD hqJ&q,ZXofWVK,W;:Xy\n",
      "\n",
      "--- Temperature: 1.5 ---\n",
      "ROMEO: !Zxt\n",
      "Y&$ek-gmTl'rX-3H;cxMMprOEjMPNVrWfYkQqz3UpyFw,L: cb?PV'sZr!hwIV:ylIeAUxRdNsDivbXPWCL.RqO?Ji''JmqeC?FVDQBH$d?mKeLlJiTANEASTYSvAK,srp3OCX$&AGY?AnUS3VjIu\n",
      "XT,cFOewthX'.gsZ!EgAAFpXp.RyblByQofeJx-f$c!M-\n"
     ]
    }
   ],
   "source": [
    "for temp in [0.2, 0.5, 1.0, 1.5]:\n",
    "    print(f\"\\n--- Temperature: {temp} ---\")\n",
    "    print(generate_text(model, start_string=\"ROMEO: \", temperature=temp, num_generate=200))\n"
   ]
  },
  {
   "cell_type": "code",
   "execution_count": null,
   "id": "94264825-34af-423c-aa48-cfba2ae966eb",
   "metadata": {},
   "outputs": [],
   "source": []
  }
 ],
 "metadata": {
  "kernelspec": {
   "display_name": "Python [conda env:sunny]",
   "language": "python",
   "name": "conda-env-sunny-py"
  },
  "language_info": {
   "codemirror_mode": {
    "name": "ipython",
    "version": 3
   },
   "file_extension": ".py",
   "mimetype": "text/x-python",
   "name": "python",
   "nbconvert_exporter": "python",
   "pygments_lexer": "ipython3",
   "version": "3.12.8"
  }
 },
 "nbformat": 4,
 "nbformat_minor": 5
}
